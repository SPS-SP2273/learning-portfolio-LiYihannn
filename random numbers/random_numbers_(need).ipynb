{
 "cells": [
  {
   "cell_type": "markdown",
   "id": "123456",
   "metadata": {},
   "source": [
    "<div style=\"text-align:left;font-size:2em\"><span style=\"font-weight:bolder;font-size:1.25em\">SP2273 | Learning Portfolio</span><br><br><span style=\"font-weight:bold;color:darkred\">Random Numbers (Need)</span></div>"
   ]
  },
  {
   "cell_type": "markdown",
   "id": "3a3a4e0c",
   "metadata": {},
   "source": [
    "## 1 Random Numbers"
   ]
  },
  {
   "cell_type": "markdown",
   "id": "05b5caef",
   "metadata": {},
   "source": [
    "### 1.1 Real and Pseudo Random Numbers"
   ]
  },
  {
   "cell_type": "code",
   "execution_count": 1,
   "id": "b61f9bdd",
   "metadata": {},
   "outputs": [
    {
     "data": {
      "text/plain": [
       "1"
      ]
     },
     "execution_count": 1,
     "metadata": {},
     "output_type": "execute_result"
    }
   ],
   "source": [
    "import numpy\n",
    "numpy.sum(True)"
   ]
  },
  {
   "cell_type": "markdown",
   "id": "934fb5bb",
   "metadata": {},
   "source": [
    "### 1.2 NumPy’s PRNG"
   ]
  },
  {
   "cell_type": "code",
   "execution_count": null,
   "id": "b3fd64a2",
   "metadata": {},
   "outputs": [],
   "source": [
    "\n",
    "# Your code here\n"
   ]
  },
  {
   "cell_type": "markdown",
   "id": "41425c9c",
   "metadata": {},
   "source": [
    "### 1.3 A simple graphical test"
   ]
  },
  {
   "cell_type": "code",
   "execution_count": null,
   "id": "26181367",
   "metadata": {},
   "outputs": [],
   "source": [
    "\n",
    "# Your code here\n"
   ]
  },
  {
   "cell_type": "markdown",
   "id": "a50e65b4",
   "metadata": {},
   "source": [
    "### 1.4 Uniformly beyond \\([0,1)\\)"
   ]
  },
  {
   "cell_type": "code",
   "execution_count": null,
   "id": "f96387e7",
   "metadata": {},
   "outputs": [],
   "source": [
    "\n",
    "# Your code here\n"
   ]
  },
  {
   "cell_type": "markdown",
   "id": "2df74de8",
   "metadata": {},
   "source": [
    "### 1.5 ‘seeding’ a PRNG"
   ]
  },
  {
   "cell_type": "code",
   "execution_count": null,
   "id": "9ef624d1",
   "metadata": {},
   "outputs": [],
   "source": [
    "\n",
    "# Your code here\n"
   ]
  },
  {
   "cell_type": "markdown",
   "id": "7e959228",
   "metadata": {},
   "source": [
    "## 2 Simulating a Magic-8 Ball"
   ]
  },
  {
   "cell_type": "markdown",
   "id": "872545ff",
   "metadata": {},
   "source": [
    "## 3 Flipping Coins"
   ]
  },
  {
   "cell_type": "markdown",
   "id": "7317e7b5",
   "metadata": {},
   "source": [
    "### 3.1 A fair coin"
   ]
  },
  {
   "cell_type": "code",
   "execution_count": null,
   "id": "3fc18f51",
   "metadata": {},
   "outputs": [],
   "source": [
    "\n",
    "# Your code here\n"
   ]
  },
  {
   "cell_type": "markdown",
   "id": "663ebcad",
   "metadata": {},
   "source": [
    "### 3.2 A biased coin"
   ]
  },
  {
   "cell_type": "code",
   "execution_count": null,
   "id": "021a4630",
   "metadata": {},
   "outputs": [],
   "source": [
    "\n",
    "# Your code here\n"
   ]
  },
  {
   "cell_type": "markdown",
   "id": "d5c1106d",
   "metadata": {},
   "source": [
    "### 3.3 A flipping experiment"
   ]
  },
  {
   "cell_type": "code",
   "execution_count": null,
   "id": "be26566e",
   "metadata": {},
   "outputs": [],
   "source": [
    "\n",
    "# Your code here\n"
   ]
  },
  {
   "cell_type": "markdown",
   "id": "b99a981a",
   "metadata": {},
   "source": [
    "## Exercise 1 :  12C, 13C"
   ]
  },
  {
   "cell_type": "code",
   "execution_count": 58,
   "id": "7989ff99",
   "metadata": {},
   "outputs": [
    {
     "name": "stdout",
     "output_type": "stream",
     "text": [
      "mean is 0.326 and standard deviation is 0.5601107033435444\n"
     ]
    }
   ],
   "source": [
    "# Q1\n",
    "def C13_counter(carbon_number):\n",
    "    C12_or_C13=numpy.random.rand(carbon_number)\n",
    "    no_of_C13=numpy.sum(C12_or_C13 > 0.9889)\n",
    "    return no_of_C13\n",
    "\n",
    "C13_list=[]\n",
    "for i in range (1000):\n",
    "    C13_list.append(C13_counter(27))\n",
    "\n",
    "mean=numpy.mean(C13_list)\n",
    "standard_deviation=numpy.std(C13_list)\n",
    "print (f\"mean is {mean} and standard deviation is {standard_deviation}\")"
   ]
  },
  {
   "cell_type": "code",
   "execution_count": 74,
   "id": "6cbd8e8a",
   "metadata": {},
   "outputs": [
    {
     "name": "stdout",
     "output_type": "stream",
     "text": [
      "probability of cholestrol have no C13 is 0.73931\n"
     ]
    }
   ],
   "source": [
    "# Q2\n",
    "def C13_counter(carbon_number):\n",
    "    C12_or_C13=numpy.random.rand(carbon_number)\n",
    "    no_of_C13=numpy.sum(C12_or_C13 > 0.9889)\n",
    "    return no_of_C13\n",
    "\n",
    "C13_list=0\n",
    "for i in range (100000):\n",
    "    if C13_counter(27) == 0:\n",
    "        C13_list+=1\n",
    "probability=C13_list/100000\n",
    "print (f\"probability of cholestrol have no C13 is {probability}\")"
   ]
  }
 ],
 "metadata": {
  "kernelspec": {
   "display_name": "Python 3 (ipykernel)",
   "language": "python",
   "name": "python3"
  },
  "language_info": {
   "codemirror_mode": {
    "name": "ipython",
    "version": 3
   },
   "file_extension": ".py",
   "mimetype": "text/x-python",
   "name": "python",
   "nbconvert_exporter": "python",
   "pygments_lexer": "ipython3",
   "version": "3.10.8"
  },
  "toc": {
   "base_numbering": 1,
   "nav_menu": {},
   "number_sections": true,
   "sideBar": true,
   "skip_h1_title": false,
   "title_cell": "Table of Contents",
   "title_sidebar": "Contents",
   "toc_cell": false,
   "toc_position": {},
   "toc_section_display": true,
   "toc_window_display": false
  },
  "vscode": {
   "interpreter": {
    "hash": "31f2aee4e71d21fbe5cf8b01ff0e069b9275f58929596ceb00d14d90e3e16cd6"
   }
  }
 },
 "nbformat": 4,
 "nbformat_minor": 5
}
