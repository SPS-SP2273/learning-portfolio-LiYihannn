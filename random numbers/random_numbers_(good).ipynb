{
 "cells": [
  {
   "cell_type": "markdown",
   "id": "123456",
   "metadata": {},
   "source": [
    "<div style=\"text-align:left;font-size:2em\"><span style=\"font-weight:bolder;font-size:1.25em\">SP2273 | Learning Portfolio</span><br><br><span style=\"font-weight:bold;color:darkred\">Random Numbers (Good)</span></div>"
   ]
  },
  {
   "cell_type": "markdown",
   "id": "5d949830",
   "metadata": {},
   "source": [
    "## 1 Random numbers from other distributions"
   ]
  },
  {
   "cell_type": "markdown",
   "id": "7fec875f",
   "metadata": {},
   "source": [
    "### 1.1 Random numbers from the Normal distribution"
   ]
  },
  {
   "cell_type": "code",
   "execution_count": null,
   "id": "266be9bb",
   "metadata": {},
   "outputs": [],
   "source": [
    "\n",
    "# Your code here\n"
   ]
  },
  {
   "cell_type": "markdown",
   "id": "d8c750ac",
   "metadata": {},
   "source": [
    "### 1.2 Visualising the random numbers"
   ]
  },
  {
   "cell_type": "code",
   "execution_count": null,
   "id": "de82d3b7",
   "metadata": {},
   "outputs": [],
   "source": [
    "\n",
    "# Your code here\n"
   ]
  },
  {
   "cell_type": "markdown",
   "id": "12647ff0",
   "metadata": {},
   "source": [
    "### 1.3 68%?"
   ]
  },
  {
   "cell_type": "code",
   "execution_count": null,
   "id": "4ea75ff4",
   "metadata": {},
   "outputs": [],
   "source": [
    "\n",
    "# Your code here\n"
   ]
  },
  {
   "cell_type": "markdown",
   "id": "ee07ee0b",
   "metadata": {},
   "source": [
    "## 1 Brownian Motion in 1D"
   ]
  },
  {
   "cell_type": "markdown",
   "id": "809a4760",
   "metadata": {},
   "source": [
    "### 1.1 The scenario"
   ]
  },
  {
   "cell_type": "code",
   "execution_count": null,
   "id": "2ab6def7",
   "metadata": {},
   "outputs": [],
   "source": [
    "\n",
    "# Your code here\n"
   ]
  },
  {
   "cell_type": "markdown",
   "id": "de241330",
   "metadata": {},
   "source": [
    "### 1.2 The simulation"
   ]
  },
  {
   "cell_type": "code",
   "execution_count": null,
   "id": "f5290810",
   "metadata": {},
   "outputs": [],
   "source": [
    "\n",
    "# Your code here\n"
   ]
  },
  {
   "cell_type": "markdown",
   "id": "3b10f1d5",
   "metadata": {},
   "source": [
    "### 1.3 What does theory say?"
   ]
  },
  {
   "cell_type": "code",
   "execution_count": null,
   "id": "a27ce697",
   "metadata": {},
   "outputs": [],
   "source": [
    "\n",
    "# Your code here\n"
   ]
  },
  {
   "cell_type": "markdown",
   "id": "16761178",
   "metadata": {},
   "source": [
    "## 2 Estimating \\(\\pi\\)"
   ]
  },
  {
   "cell_type": "markdown",
   "id": "1a18822e",
   "metadata": {},
   "source": [
    "### 2.1 The method"
   ]
  },
  {
   "cell_type": "code",
   "execution_count": null,
   "id": "0c60afcc",
   "metadata": {},
   "outputs": [],
   "source": [
    "\n",
    "# Your code here\n"
   ]
  },
  {
   "cell_type": "markdown",
   "id": "98237c6a",
   "metadata": {},
   "source": [
    "### 2.2 A poor but intuitive solution"
   ]
  },
  {
   "cell_type": "code",
   "execution_count": null,
   "id": "c45cc1a7",
   "metadata": {},
   "outputs": [],
   "source": [
    "\n",
    "# Your code here\n"
   ]
  },
  {
   "cell_type": "markdown",
   "id": "819b188d",
   "metadata": {},
   "source": [
    "### 2.3 A better solution"
   ]
  },
  {
   "cell_type": "code",
   "execution_count": null,
   "id": "d2b6077b",
   "metadata": {},
   "outputs": [],
   "source": [
    "\n",
    "# Your code here\n"
   ]
  },
  {
   "cell_type": "markdown",
   "id": "ef98bc78",
   "metadata": {},
   "source": [
    "### 2.4 A smarter solution"
   ]
  },
  {
   "cell_type": "code",
   "execution_count": null,
   "id": "84bc9275",
   "metadata": {},
   "outputs": [],
   "source": [
    "\n",
    "# Your code here\n"
   ]
  },
  {
   "cell_type": "markdown",
   "id": "ae35bc4c",
   "metadata": {},
   "source": [
    "## Exercise 1 :  Vital Stats of Random π"
   ]
  },
  {
   "cell_type": "code",
   "execution_count": 3,
   "id": "c81dca24",
   "metadata": {},
   "outputs": [],
   "source": [
    "#Q1 \n",
    "import numpy.random as rnd\n",
    "import numpy as np\n",
    "def estimate_pi(n):\n",
    "    x=rnd.rand(n)\n",
    "    y=rnd.rand(n)\n",
    "    N_green=np.sum((x**2+y**2) <= 1)\n",
    "    return 4 * (N_green / n)\n"
   ]
  },
  {
   "cell_type": "code",
   "execution_count": 5,
   "id": "84e0692a",
   "metadata": {},
   "outputs": [
    {
     "name": "stdout",
     "output_type": "stream",
     "text": [
      "mean pi value estimated is 3.14058 and standard deviation is 0.017186299659903526.\n"
     ]
    }
   ],
   "source": [
    "#Q2 \n",
    "def mean_std(repeat, n):\n",
    "    all_pi=[]\n",
    "    for i in range (repeat):\n",
    "        all_pi.append(estimate_pi(n))\n",
    "        pi_mean=np.mean(all_pi)\n",
    "        pi_standard_deviation=np.std(all_pi)\n",
    "    return pi_mean,pi_standard_deviation\n",
    "    \n",
    "print (f\"mean pi value estimated is {mean_std(100, 10000)[0]} and standard deviation is {mean_std(100, 10000)[1]}.\")"
   ]
  },
  {
   "cell_type": "code",
   "execution_count": 8,
   "id": "36a623c3",
   "metadata": {},
   "outputs": [],
   "source": [
    "import matplotlib.pyplot as plt\n",
    "import matplotlib \n",
    "x = [10, 100, 1000, 10000, 100000, 1000000]\n",
    "reference_x=[0, 100, 1000, 10000, 100000, 1000000]\n",
    "y=[]\n",
    "y_error=[]\n",
    "real_pi=[]\n",
    "for i in range (len(x)):\n",
    "    y.append(estimate_pi(x[i]))\n",
    "    y_error.append(mean_std(100,x[i])[1])\n",
    "    real_pi.append(np.pi)\n"
   ]
  },
  {
   "cell_type": "code",
   "execution_count": 10,
   "id": "9fcfb5eb",
   "metadata": {},
   "outputs": [
    {
     "data": {
      "image/png": "[encoded data removed]",
      "text/plain": [
       "<Figure size 640x480 with 1 Axes>"
      ]
     },
     "metadata": {},
     "output_type": "display_data"
    }
   ],
   "source": [
    "plt.errorbar(x, y, \n",
    "             yerr=y_error, ecolor=\"blue\",\n",
    "             marker=\".\", markerfacecolor=\"blue\", linestyle = '',\n",
    "            label = \"Std. Dev. of $\\pi$ values\")\n",
    "plt.plot(reference_x,real_pi,\n",
    "        linestyle=\"dashed\", color=\"#ADD8E6\",\n",
    "        label = \"Real $\\pi$\")\n",
    "plt.xscale('log')\n",
    "plt.yticks(np.arange(2.0, 4.1, 0.2))\n",
    "plt.ylim([1.95, 4.05])\n",
    "plt.minorticks_off()\n",
    "plt.ylabel('Value of $\\pi$')\n",
    "plt.xlabel('No. of points used to generate value')\n",
    "plt.title('Value of $\\pi$ vs No. of Points Used')\n",
    "plt.legend(loc='upper right')      \n",
    "plt.show()"
   ]
  }
 ],
 "metadata": {
  "kernelspec": {
   "display_name": "Python 3 (ipykernel)",
   "language": "python",
   "name": "python3"
  },
  "language_info": {
   "codemirror_mode": {
    "name": "ipython",
    "version": 3
   },
   "file_extension": ".py",
   "mimetype": "text/x-python",
   "name": "python",
   "nbconvert_exporter": "python",
   "pygments_lexer": "ipython3",
   "version": "3.10.8"
  },
  "toc": {
   "base_numbering": 1,
   "nav_menu": {},
   "number_sections": true,
   "sideBar": true,
   "skip_h1_title": false,
   "title_cell": "Table of Contents",
   "title_sidebar": "Contents",
   "toc_cell": false,
   "toc_position": {},
   "toc_section_display": true,
   "toc_window_display": false
  },
  "vscode": {
   "interpreter": {
    "hash": "31f2aee4e71d21fbe5cf8b01ff0e069b9275f58929596ceb00d14d90e3e16cd6"
   }
  }
 },
 "nbformat": 4,
 "nbformat_minor": 5
}
