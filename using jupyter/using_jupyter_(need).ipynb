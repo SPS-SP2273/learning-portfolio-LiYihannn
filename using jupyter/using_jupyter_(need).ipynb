{
 "cells": [
  {
   "cell_type": "markdown",
   "id": "123456",
   "metadata": {},
   "source": [
    "<div style=\"text-align:left;font-size:2em\"><span style=\"font-weight:bolder;font-size:1.25em\">SP2273 | Learning Portfolio</span><br><br><span style=\"font-weight:bold;color:darkred\">Using Jupyter (Need)</span></div>"
   ]
  },
  {
   "cell_type": "markdown",
   "id": "45d56c47",
   "metadata": {},
   "source": [
    "## 1 Getting started with Jupyter"
   ]
  },
  {
   "cell_type": "markdown",
   "id": "1b43e3a8",
   "metadata": {},
   "source": [
    "### 1.1 Its all about running cells"
   ]
  },
  {
   "cell_type": "code",
   "execution_count": null,
   "id": "141c7ced",
   "metadata": {},
   "outputs": [],
   "source": [
    "\n",
    "# Your code here\n"
   ]
  },
  {
   "cell_type": "markdown",
   "id": "76b54c8a",
   "metadata": {},
   "source": [
    "### 1.2 A traditional start"
   ]
  },
  {
   "cell_type": "code",
   "execution_count": 1,
   "id": "ed364ede",
   "metadata": {},
   "outputs": [
    {
     "name": "stdout",
     "output_type": "stream",
     "text": [
      "Hello World!\n"
     ]
    }
   ],
   "source": [
    "\n",
    "# Your code here\n",
    "print(\"Hello World\")"
   ]
  },
  {
   "cell_type": "markdown",
   "id": "0b3a2d6b",
   "metadata": {},
   "source": [
    "## 2 All about Markdown"
   ]
  },
  {
   "cell_type": "markdown",
   "id": "4511f75b",
   "metadata": {},
   "source": [
    "### 2.1 Rendering Markdown cells"
   ]
  },
  {
   "cell_type": "code",
   "execution_count": null,
   "id": "ed441cae",
   "metadata": {},
   "outputs": [],
   "source": [
    "\n",
    "# Your code here\n"
   ]
  },
  {
   "cell_type": "markdown",
   "id": "6807375b",
   "metadata": {},
   "source": [
    "### 2.2 Some basic syntax"
   ]
  },
  {
   "cell_type": "code",
   "execution_count": null,
   "id": "7d2d965f",
   "metadata": {},
   "outputs": [],
   "source": [
    "\n",
    "# Your code here\n"
   ]
  },
  {
   "cell_type": "markdown",
   "id": "0f109bc3",
   "metadata": {},
   "source": [
    "The ships *hung in the sky* in much the same way that **bricks don’t.**<sup>1</sup><sub>QUOTE</sub>"
   ]
  },
  {
   "cell_type": "markdown",
   "id": "9ad08e16",
   "metadata": {},
   "source": [
    "### 2.3 Headings"
   ]
  },
  {
   "cell_type": "code",
   "execution_count": null,
   "id": "9bdbdda0",
   "metadata": {},
   "outputs": [],
   "source": [
    "\n",
    "# Your code here\n"
   ]
  },
  {
   "cell_type": "markdown",
   "id": "d857edc8",
   "metadata": {},
   "source": [
    "# The largest heading\n",
    "\n",
    "## The second-largest heading\n",
    "\n",
    "### The third-largest heading\n",
    "\n",
    "###### The smallest heading"
   ]
  },
  {
   "cell_type": "markdown",
   "id": "f29ebc29",
   "metadata": {},
   "source": [
    "### 2.4 Displaying Code"
   ]
  },
  {
   "cell_type": "code",
   "execution_count": null,
   "id": "dfc004d6",
   "metadata": {},
   "outputs": [],
   "source": [
    "\n",
    "# Your code here\n"
   ]
  },
  {
   "cell_type": "markdown",
   "id": "8aaa7545",
   "metadata": {},
   "source": [
    "```python \n",
    "print(\"Hello World!\")\n",
    "```"
   ]
  },
  {
   "cell_type": "markdown",
   "id": "366b9fa9",
   "metadata": {},
   "source": [
    "### 2.5 Links"
   ]
  },
  {
   "cell_type": "code",
   "execution_count": null,
   "id": "f7a8eca2",
   "metadata": {},
   "outputs": [],
   "source": [
    "\n",
    "# Your code here\n"
   ]
  },
  {
   "cell_type": "markdown",
   "id": "88ffaac0",
   "metadata": {},
   "source": [
    "[SP2273 Website](https://sps.nus.edu.sg/sp2273)"
   ]
  },
  {
   "cell_type": "markdown",
   "id": "8ef90f6f",
   "metadata": {},
   "source": [
    "### 2.6 Images"
   ]
  },
  {
   "cell_type": "code",
   "execution_count": null,
   "id": "6d27abae",
   "metadata": {},
   "outputs": [],
   "source": [
    "\n",
    "# Your code here\n"
   ]
  },
  {
   "cell_type": "markdown",
   "id": "2ff2b20c",
   "metadata": {},
   "source": [
    "![](https://nus.edu.sg/images/default-source/base/logo.png)"
   ]
  },
  {
   "cell_type": "markdown",
   "id": "44c5e0d5",
   "metadata": {},
   "source": [
    "### 2.7 Tables"
   ]
  },
  {
   "cell_type": "code",
   "execution_count": null,
   "id": "1a397b91",
   "metadata": {},
   "outputs": [],
   "source": [
    "\n",
    "# Your code here\n"
   ]
  },
  {
   "cell_type": "markdown",
   "id": "40676470",
   "metadata": {},
   "source": [
    "| A    |  B   |    C |\n",
    "| :--- | :--: | ---: |\n",
    "| a1   |  b1  |   c1 |\n",
    "| a2   |  b2  |   c2 |\n",
    "| a3   |  b3  |   c3 |"
   ]
  },
  {
   "cell_type": "markdown",
   "id": "782f844c",
   "metadata": {},
   "source": [
    "### 2.8 Lists"
   ]
  },
  {
   "cell_type": "code",
   "execution_count": null,
   "id": "254d57f0",
   "metadata": {},
   "outputs": [],
   "source": [
    "\n",
    "# Your code here\n"
   ]
  },
  {
   "cell_type": "markdown",
   "id": "ff9398b0",
   "metadata": {},
   "source": [
    "Numbered\n",
    "1. Master Yoda\n",
    "1. Luke Skywalker\n",
    "1. Anakin Skywalker"
   ]
  },
  {
   "cell_type": "markdown",
   "id": "f68e5dca",
   "metadata": {},
   "source": [
    "### 2.9 Equations"
   ]
  },
  {
   "cell_type": "code",
   "execution_count": null,
   "id": "63a9085b",
   "metadata": {},
   "outputs": [],
   "source": [
    "\n",
    "# Your code here\n"
   ]
  },
  {
   "cell_type": "markdown",
   "id": "b4350bd9",
   "metadata": {},
   "source": [
    "$$\n",
    "x = \\dfrac{-b \\pm \\sqrt{b^2-4ac}}{2a}\n",
    "$$"
   ]
  },
  {
   "cell_type": "markdown",
   "id": "d18414da",
   "metadata": {},
   "source": [
    "## Exercise 1 :  Put it in Markdown"
   ]
  },
  {
   "cell_type": "code",
   "execution_count": null,
   "id": "492f578b",
   "metadata": {},
   "outputs": [],
   "source": [
    "\n",
    "\n",
    "\n",
    "# Your solution here\n",
    "\n",
    "\n"
   ]
  },
  {
   "cell_type": "markdown",
   "id": "db0e51d9",
   "metadata": {},
   "source": [
    "**Quadratic Equations**\n",
    "![](https://upload.wikimedia.org/wikipedia/commons/thumb/f/f8/Polynomialdeg2.svg/800px-Polynomialdeg2.svg.png)\n",
    "\n",
    "(Image from the [Wikipedia page on Quadratic equations](https://en.wikipedia.org/wiki/Quadratic_equation))\n",
    "\n",
    "**Introduction**\n",
    "\n",
    "The general form of a quadratic equation is:\n",
    "\n",
    "$$\n",
    "ax^2+bx+c=0\n",
    "$$\n",
    "\n",
    "**Solutions** Provided $a \\ne 0$, we can use an elementary algebraic method called [completeing the square](https://en.wikipedia.org/wiki/Completing_the_square) to show that a quadratic equation has the following solution:\\\n",
    "\n",
    "$$\n",
    "x = \\dfrac{-b \\pm \\sqrt{b^2-4ac}}{2a}\n",
    "$$\n",
    "\n",
    "**Discriminant**\n",
    "\n",
    "The quantity $\\Delta =  b^2-4ac$ is called the **discriminant** of the equation and decides the nature of its solutions. The table below shows the various possibilities.\n",
    "\n",
    "|    **Discriminat**    |               **Roots**               | \n",
    "| :--------------------: |  :----------------------------------- | \n",
    "| $$\\Delta =  b^2-4ac=0$$ |  A single solution of $-b/(2a)$       |  \n",
    "| $$\\Delta =  b^2-4ac>0$$ |  Two distinct solutions               |   \n",
    "| $$\\Delta =  b^2-4ac<0$$ |  No real solutions; both are complex. |  "
   ]
  },
  {
   "cell_type": "markdown",
   "id": "48b943c3",
   "metadata": {},
   "source": [
    "## Exercise 2 :  In your own words"
   ]
  },
  {
   "cell_type": "markdown",
   "id": "2d3574c2",
   "metadata": {},
   "source": [
    "1. repository is a folder on GitHub to store your Learning Portfolio\n",
    "2. changes \n",
    "3. commit can be used to specify the changes made to the file with a brief discription \n",
    "4. push is used to share the changes made stored locally on the device to the GitHub server\n",
    "5. GitHub is an online cloud repository while GitHub Desktop is the local repository with a user friendly interface "
   ]
  },
  {
   "cell_type": "code",
   "execution_count": null,
   "id": "9af32f52",
   "metadata": {},
   "outputs": [],
   "source": []
  }
 ],
 "metadata": {
  "kernelspec": {
   "display_name": "Python 3 (ipykernel)",
   "language": "python",
   "name": "python3"
  },
  "language_info": {
   "codemirror_mode": {
    "name": "ipython",
    "version": 3
   },
   "file_extension": ".py",
   "mimetype": "text/x-python",
   "name": "python",
   "nbconvert_exporter": "python",
   "pygments_lexer": "ipython3",
   "version": "3.10.9"
  },
  "toc": {
   "base_numbering": 1,
   "nav_menu": {},
   "number_sections": true,
   "sideBar": true,
   "skip_h1_title": false,
   "title_cell": "Table of Contents",
   "title_sidebar": "Contents",
   "toc_cell": false,
   "toc_position": {},
   "toc_section_display": true,
   "toc_window_display": false
  },
  "vscode": {
   "interpreter": {
    "hash": "31f2aee4e71d21fbe5cf8b01ff0e069b9275f58929596ceb00d14d90e3e16cd6"
   }
  }
 },
 "nbformat": 4,
 "nbformat_minor": 5
}
