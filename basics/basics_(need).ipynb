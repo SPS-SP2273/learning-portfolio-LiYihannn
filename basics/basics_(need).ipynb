{
 "cells": [
  {
   "cell_type": "markdown",
   "id": "123456",
   "metadata": {},
   "source": [
    "<div style=\"text-align:left;font-size:2em\"><span style=\"font-weight:bolder;font-size:1.25em\">SP2273 | Learning Portfolio</span><br><br><span style=\"font-weight:bold;color:darkred\">Basics (Need)</span></div>"
   ]
  },
  {
   "cell_type": "markdown",
   "id": "e65ea083",
   "metadata": {},
   "source": [
    "## 1 Some Python Basics"
   ]
  },
  {
   "cell_type": "markdown",
   "id": "bee1fe26",
   "metadata": {},
   "source": [
    "### 1.1 Functions"
   ]
  },
  {
   "cell_type": "code",
   "execution_count": 1,
   "id": "61990873",
   "metadata": {},
   "outputs": [
    {
     "name": "stdout",
     "output_type": "stream",
     "text": [
      "Hello World!\n"
     ]
    }
   ],
   "source": [
    "\n",
    "# Your code here\n",
    "print (\"Hello World!\")"
   ]
  },
  {
   "cell_type": "markdown",
   "id": "69f5d26d",
   "metadata": {},
   "source": [
    "### 1.2 Python is interpreted"
   ]
  },
  {
   "cell_type": "code",
   "execution_count": 2,
   "id": "f09eddff",
   "metadata": {},
   "outputs": [
    {
     "name": "stdout",
     "output_type": "stream",
     "text": [
      "Hello World\n",
      "Hello World again\n"
     ]
    }
   ],
   "source": [
    "\n",
    "# Your code here\n",
    "print('Hello World')\n",
    "print('Hello World again')"
   ]
  },
  {
   "cell_type": "markdown",
   "id": "1431b8c9",
   "metadata": {},
   "source": [
    "### 1.3 Python is sensitive."
   ]
  },
  {
   "cell_type": "code",
   "execution_count": 3,
   "id": "2acc07cd",
   "metadata": {},
   "outputs": [
    {
     "name": "stdout",
     "output_type": "stream",
     "text": [
      "Hello World\n"
     ]
    },
    {
     "ename": "NameError",
     "evalue": "name 'Print' is not defined",
     "output_type": "error",
     "traceback": [
      "\u001b[1;31m---------------------------------------------------------------------------\u001b[0m",
      "\u001b[1;31mNameError\u001b[0m                                 Traceback (most recent call last)",
      "Cell \u001b[1;32mIn[3], line 3\u001b[0m\n\u001b[0;32m      1\u001b[0m \u001b[38;5;66;03m# Your code here\u001b[39;00m\n\u001b[0;32m      2\u001b[0m \u001b[38;5;28mprint\u001b[39m(\u001b[38;5;124m'\u001b[39m\u001b[38;5;124mHello World\u001b[39m\u001b[38;5;124m'\u001b[39m)  \n\u001b[1;32m----> 3\u001b[0m \u001b[43mPrint\u001b[49m(\u001b[38;5;124m'\u001b[39m\u001b[38;5;124mHello World\u001b[39m\u001b[38;5;124m'\u001b[39m) \n",
      "\u001b[1;31mNameError\u001b[0m: name 'Print' is not defined"
     ]
    }
   ],
   "source": [
    "\n",
    "# Your code here\n",
    "print('Hello World')  \n",
    "Print('Hello World') "
   ]
  },
  {
   "cell_type": "markdown",
   "id": "246f857e",
   "metadata": {},
   "source": [
    "### 1.4 Comments"
   ]
  },
  {
   "cell_type": "code",
   "execution_count": null,
   "id": "af934ab6",
   "metadata": {},
   "outputs": [],
   "source": [
    "\n",
    "# Your code here\n",
    "#this is a comment "
   ]
  },
  {
   "cell_type": "markdown",
   "id": "90f3c77b",
   "metadata": {},
   "source": [
    "### 1.5 = is not the same as =="
   ]
  },
  {
   "cell_type": "code",
   "execution_count": 4,
   "id": "21e8b67f",
   "metadata": {},
   "outputs": [
    {
     "data": {
      "text/plain": [
       "True"
      ]
     },
     "execution_count": 4,
     "metadata": {},
     "output_type": "execute_result"
    }
   ],
   "source": [
    "\n",
    "# Your code here\n",
    "name = 'Batman'  \n",
    "name == 'Batman'"
   ]
  },
  {
   "cell_type": "markdown",
   "id": "75debebd",
   "metadata": {},
   "source": [
    "### 1.6 Use if to make decisions"
   ]
  },
  {
   "cell_type": "code",
   "execution_count": 5,
   "id": "363357b2",
   "metadata": {},
   "outputs": [
    {
     "name": "stdout",
     "output_type": "stream",
     "text": [
      "Hello Hero | Batman!\n"
     ]
    }
   ],
   "source": [
    "\n",
    "# Your code here\n",
    "name = 'Batman'\n",
    "if name == 'Batman':\n",
    "    print('Hello Hero | Batman!')\n",
    "else:\n",
    "    print('Hello World!')"
   ]
  },
  {
   "cell_type": "markdown",
   "id": "dad6f52b",
   "metadata": {},
   "source": [
    "### 1.7 Indentations (spaces) are sooo IMPORTANT!"
   ]
  },
  {
   "cell_type": "code",
   "execution_count": 6,
   "id": "51e9d6dd",
   "metadata": {},
   "outputs": [
    {
     "name": "stdout",
     "output_type": "stream",
     "text": [
      "10\n"
     ]
    }
   ],
   "source": [
    "\n",
    "# Your code here\n",
    "x = 10\n",
    "print(x)"
   ]
  },
  {
   "cell_type": "markdown",
   "id": "33dbffcf",
   "metadata": {},
   "source": [
    "### 1.8 ‘age’ is English, age is a variable."
   ]
  },
  {
   "cell_type": "code",
   "execution_count": 7,
   "id": "79fade9a",
   "metadata": {},
   "outputs": [
    {
     "name": "stdout",
     "output_type": "stream",
     "text": [
      "10\n",
      "age\n"
     ]
    }
   ],
   "source": [
    "\n",
    "# Your code here\n",
    "age = 10 \n",
    "print (age)\n",
    "print (\"age\")"
   ]
  },
  {
   "cell_type": "markdown",
   "id": "f3fef0dc",
   "metadata": {},
   "source": [
    "### 1.9 Escape sequences"
   ]
  },
  {
   "cell_type": "code",
   "execution_count": null,
   "id": "80a718e3",
   "metadata": {},
   "outputs": [],
   "source": [
    "\n",
    "# Your code here\n"
   ]
  },
  {
   "cell_type": "markdown",
   "id": "8c8ac39c",
   "metadata": {},
   "source": [
    "### 1.10 Brackets"
   ]
  },
  {
   "cell_type": "code",
   "execution_count": 8,
   "id": "00dd33bb",
   "metadata": {},
   "outputs": [
    {
     "name": "stdout",
     "output_type": "stream",
     "text": [
      "Bruce Wayne\n"
     ]
    }
   ],
   "source": [
    "\n",
    "# Your code here\n",
    "personal_info = {\n",
    "    'Names': 'Batman',\n",
    "    'Real Name': 'Bruce Wayne',\n",
    "    'Age': 55,\n",
    "    'Affiliation': 'Justice League',\n",
    "    'Universe': 'DC'\n",
    "}\n",
    "\n",
    "print(personal_info['Real Name'])"
   ]
  },
  {
   "cell_type": "markdown",
   "id": "ef33e05a",
   "metadata": {},
   "source": [
    "## 2 Giving Python superpowers"
   ]
  },
  {
   "cell_type": "markdown",
   "id": "f2232ccb",
   "metadata": {},
   "source": [
    "### 2.1 Packages"
   ]
  },
  {
   "cell_type": "code",
   "execution_count": 11,
   "id": "64147ca4",
   "metadata": {},
   "outputs": [
    {
     "data": {
      "text/plain": [
       "2.0"
      ]
     },
     "execution_count": 11,
     "metadata": {},
     "output_type": "execute_result"
    }
   ],
   "source": [
    "\n",
    "# Your code here\n",
    "import math\n",
    "math.sqrt(4)"
   ]
  },
  {
   "cell_type": "markdown",
   "id": "94ab5ffc",
   "metadata": {},
   "source": [
    "### 2.2 The dot (.)"
   ]
  },
  {
   "cell_type": "code",
   "execution_count": 12,
   "id": "a3e3699c",
   "metadata": {},
   "outputs": [
    {
     "data": {
      "text/plain": [
       "['I', 'am', 'Batman']"
      ]
     },
     "execution_count": 12,
     "metadata": {},
     "output_type": "execute_result"
    }
   ],
   "source": [
    "\n",
    "# Your code here\n",
    "\"I am Batman\".split()"
   ]
  },
  {
   "cell_type": "markdown",
   "id": "acf4117c",
   "metadata": {},
   "source": [
    "## Exercise 1 :  Total recall?"
   ]
  },
  {
   "cell_type": "markdown",
   "id": "98ad17c8",
   "metadata": {},
   "source": [
    "1. print, split, if-else. use # for comments, case sensitive \n",
    "2. assign value to variables, indentation, funcrion "
   ]
  },
  {
   "cell_type": "markdown",
   "id": "d5362e76",
   "metadata": {},
   "source": [
    "## Exercise 2 :  Debug me"
   ]
  },
  {
   "cell_type": "code",
   "execution_count": 15,
   "id": "47a33789",
   "metadata": {},
   "outputs": [
    {
     "name": "stdout",
     "output_type": "stream",
     "text": [
      "3 4 5.0\n"
     ]
    }
   ],
   "source": [
    "\n",
    "\n",
    "\n",
    "# Your solution here\n",
    "\n",
    "x, y = 3, 4\n",
    "z = math.sqrt(x**2 + y**2)\n",
    "print(x, y, z)\n"
   ]
  },
  {
   "cell_type": "markdown",
   "id": "86fd2977",
   "metadata": {},
   "source": [
    "## Exercise 3 :  In your own words"
   ]
  },
  {
   "cell_type": "markdown",
   "id": "3bf8680c",
   "metadata": {},
   "source": [
    "1. fucntions: a series of code that perform a specific task and can be reusd \n",
    "2. arguments: input of a function \n",
    "3. comments: a sentence marked out by a # sign that will not interupt the flow of the code \n",
    "4. indentations: space at the start of each line to demonstrate hierarchy\n",
    "5. packages: addtional functionality that can be added to python "
   ]
  },
  {
   "cell_type": "markdown",
   "id": "187c0eb2",
   "metadata": {},
   "source": [
    "## Exercise 4 :  More than one way to divide"
   ]
  },
  {
   "cell_type": "code",
   "execution_count": null,
   "id": "5693b07f",
   "metadata": {},
   "outputs": [],
   "source": [
    "\n",
    "\n",
    "\n",
    "# Your solution here\n",
    "#5/2: produce the result of calculation 5 divided by 2, which is 2.\n",
    "\n"
   ]
  }
 ],
 "metadata": {
  "kernelspec": {
   "display_name": "Python 3 (ipykernel)",
   "language": "python",
   "name": "python3"
  },
  "language_info": {
   "codemirror_mode": {
    "name": "ipython",
    "version": 3
   },
   "file_extension": ".py",
   "mimetype": "text/x-python",
   "name": "python",
   "nbconvert_exporter": "python",
   "pygments_lexer": "ipython3",
   "version": "3.10.8"
  },
  "toc": {
   "base_numbering": 1,
   "nav_menu": {},
   "number_sections": true,
   "sideBar": true,
   "skip_h1_title": false,
   "title_cell": "Table of Contents",
   "title_sidebar": "Contents",
   "toc_cell": false,
   "toc_position": {},
   "toc_section_display": true,
   "toc_window_display": false
  },
  "vscode": {
   "interpreter": {
    "hash": "31f2aee4e71d21fbe5cf8b01ff0e069b9275f58929596ceb00d14d90e3e16cd6"
   }
  }
 },
 "nbformat": 4,
 "nbformat_minor": 5
}
