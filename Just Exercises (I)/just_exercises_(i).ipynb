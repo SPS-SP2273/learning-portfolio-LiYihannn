{
 "cells": [
  {
   "cell_type": "markdown",
   "id": "123456",
   "metadata": {},
   "source": [
    "<div style=\"text-align:left;font-size:2em\"><span style=\"font-weight:bolder;font-size:1.25em\">SP2273 | Learning Portfolio</span><br><br><span style=\"font-weight:bold;color:darkred\">Just Exercises (I)</span></div>"
   ]
  },
  {
   "cell_type": "markdown",
   "id": "25e60264",
   "metadata": {},
   "source": [
    "## Exercise 1 :  F-strings to the rescue"
   ]
  },
  {
   "cell_type": "code",
   "execution_count": 4,
   "id": "96d882ae",
   "metadata": {
    "scrolled": true
   },
   "outputs": [
    {
     "name": "stdout",
     "output_type": "stream",
     "text": [
      "00001\n",
      "00002\n",
      "00003\n",
      "00004\n",
      "00005\n",
      "00006\n",
      "00007\n",
      "00008\n",
      "00009\n",
      "00010\n"
     ]
    }
   ],
   "source": [
    "# Q1\n",
    "for i in range (1,11):\n",
    "    string_i=str(i)\n",
    "    while len (string_i)<5:\n",
    "        string_i=\"0\" + string_i\n",
    "    print (string_i)"
   ]
  },
  {
   "cell_type": "code",
   "execution_count": 7,
   "id": "06b10b2e",
   "metadata": {},
   "outputs": [
    {
     "name": "stdout",
     "output_type": "stream",
     "text": [
      "001\n",
      "002\n",
      "003\n",
      "004\n",
      "005\n",
      "006\n",
      "007\n",
      "008\n",
      "009\n",
      "010\n"
     ]
    }
   ],
   "source": [
    "# Q2\n",
    "for i in range (1,11):\n",
    "    string_i=str(i)\n",
    "    while len (string_i)<3:\n",
    "        string_i=\"0\" + string_i\n",
    "    srting_i=string_i + (\" \"*(i-10)) + (\"+\"*i)\n",
    "    print (string_i)"
   ]
  },
  {
   "cell_type": "code",
   "execution_count": 17,
   "id": "b0222f77",
   "metadata": {},
   "outputs": [
    {
     "name": "stdout",
     "output_type": "stream",
     "text": [
      "001          +\n",
      "002         ++\n",
      "003        +++\n",
      "004       ++++\n",
      "005      +++++\n",
      "006     ++++++\n",
      "007    +++++++\n",
      "008   ++++++++\n",
      "009  +++++++++\n",
      "010 ++++++++++\n"
     ]
    }
   ],
   "source": [
    "# Q2\n",
    "for i in range (1,11):\n",
    "    string_i=str(i)\n",
    "    while len (string_i)<3:\n",
    "        string_i=\"0\" + string_i\n",
    "    string_i=string_i + (\" \"*(11-i)) \n",
    "    string_i=string_i + (\"+\"*i)\n",
    "    print (string_i)"
   ]
  },
  {
   "cell_type": "code",
   "execution_count": 21,
   "id": "408f5274",
   "metadata": {},
   "outputs": [
    {
     "name": "stdout",
     "output_type": "stream",
     "text": [
      "001-+++++++++\n",
      "002--++++++++\n",
      "003---+++++++\n",
      "004----++++++\n",
      "005-----+++++\n",
      "006------++++\n",
      "007-------+++\n",
      "008--------++\n",
      "009---------+\n",
      "010----------\n"
     ]
    }
   ],
   "source": [
    "# Q3\n",
    "for i in range (1,11):\n",
    "    string_i=str(i)\n",
    "    while len (string_i)<3:\n",
    "        string_i=\"0\" + string_i\n",
    "    string_i=string_i + (\"-\"*i) \n",
    "    string_i=string_i + (\"+\"*(10-i))\n",
    "    print (string_i)"
   ]
  },
  {
   "cell_type": "code",
   "execution_count": 23,
   "id": "29e16b63",
   "metadata": {},
   "outputs": [
    {
     "name": "stdout",
     "output_type": "stream",
     "text": [
      "['bruce_exploits.txt', 'bruce_enemies.txt', 'bruce_friends.txt', 'natasha_exploits.txt', 'natasha_enemies.txt', 'natasha_friends.txt', 'tony_exploits.txt', 'tony_enemies.txt', 'tony_friends.txt']\n"
     ]
    }
   ],
   "source": [
    "# Q4\n",
    "name=[\"bruce\", \"natasha\", \"tony\"]\n",
    "relationship=[\"exploits\", \"enemies\", \"friends\"]\n",
    "name_list=[]\n",
    "for i in range(len(name)):\n",
    "    for m in range(len(relationship)):\n",
    "        name_list.append(name[i] + \"_\" + relationship[m] + \".txt\")\n",
    "print (name_list)"
   ]
  },
  {
   "cell_type": "code",
   "execution_count": 33,
   "id": "6f051432",
   "metadata": {},
   "outputs": [],
   "source": [
    "# Q5\n",
    "country_name=[\"sg\",\"gb\",\"us\"]\n",
    "experiment=[\"01\",\"02\",\"03\"]\n",
    "file_name=[]\n",
    "for m in range(len(country_name)): \n",
    "    for n in range(len(experiment)):\n",
    "        for i in range (1,51):\n",
    "            string_i=str(i)\n",
    "            while len (string_i)<3:\n",
    "                string_i=\"0\" + string_i\n",
    "            srting_i=string_i + (\" \"*(i-10)) + (\"+\"*i)\n",
    "            file_name.append(\"data_\" + country_name[m] + \"_exp-\" + experiment[n] + \"_trial-\" + string_i + \".txt\")"
   ]
  },
  {
   "cell_type": "markdown",
   "id": "9d58aaa5",
   "metadata": {},
   "source": [
    "## Exercise 2 :  Tutti frutti"
   ]
  },
  {
   "cell_type": "code",
   "execution_count": null,
   "id": "5bca2b36",
   "metadata": {},
   "outputs": [],
   "source": [
    "\n",
    "\n",
    "\n",
    "# Your solution here\n",
    "\n",
    "\n"
   ]
  },
  {
   "cell_type": "markdown",
   "id": "beba89b6",
   "metadata": {},
   "source": [
    "## Exercise 3 :  Ciao Fibonacci"
   ]
  },
  {
   "cell_type": "code",
   "execution_count": null,
   "id": "bfffe436",
   "metadata": {},
   "outputs": [],
   "source": [
    "\n",
    "\n",
    "\n",
    "# Your solution here\n",
    "\n",
    "\n"
   ]
  },
  {
   "cell_type": "markdown",
   "id": "1bc397e2",
   "metadata": {},
   "source": [
    "## Exercise 4 :  A function for Fibonacci"
   ]
  },
  {
   "cell_type": "code",
   "execution_count": null,
   "id": "b930b583",
   "metadata": {},
   "outputs": [],
   "source": [
    "\n",
    "\n",
    "\n",
    "# Your solution here\n",
    "\n",
    "\n"
   ]
  },
  {
   "cell_type": "markdown",
   "id": "c2ebca92",
   "metadata": {},
   "source": [
    "## Exercise 5 :  max_info() without NumPy"
   ]
  },
  {
   "cell_type": "code",
   "execution_count": null,
   "id": "e7943131",
   "metadata": {},
   "outputs": [],
   "source": [
    "\n",
    "\n",
    "\n",
    "# Your solution here\n",
    "\n",
    "\n"
   ]
  },
  {
   "cell_type": "markdown",
   "id": "dfa6a967",
   "metadata": {},
   "source": [
    "## Exercise 6 :  Take count"
   ]
  },
  {
   "cell_type": "code",
   "execution_count": null,
   "id": "fba9b5b0",
   "metadata": {},
   "outputs": [],
   "source": [
    "\n",
    "\n",
    "\n",
    "# Your solution here\n",
    "\n",
    "\n"
   ]
  }
 ],
 "metadata": {
  "kernelspec": {
   "display_name": "Python 3 (ipykernel)",
   "language": "python",
   "name": "python3"
  },
  "language_info": {
   "codemirror_mode": {
    "name": "ipython",
    "version": 3
   },
   "file_extension": ".py",
   "mimetype": "text/x-python",
   "name": "python",
   "nbconvert_exporter": "python",
   "pygments_lexer": "ipython3",
   "version": "3.10.8"
  },
  "toc": {
   "base_numbering": 1,
   "nav_menu": {},
   "number_sections": true,
   "sideBar": true,
   "skip_h1_title": false,
   "title_cell": "Table of Contents",
   "title_sidebar": "Contents",
   "toc_cell": false,
   "toc_position": {},
   "toc_section_display": true,
   "toc_window_display": false
  },
  "vscode": {
   "interpreter": {
    "hash": "31f2aee4e71d21fbe5cf8b01ff0e069b9275f58929596ceb00d14d90e3e16cd6"
   }
  }
 },
 "nbformat": 4,
 "nbformat_minor": 5
}
