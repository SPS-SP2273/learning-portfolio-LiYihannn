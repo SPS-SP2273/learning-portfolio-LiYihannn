{
 "cells": [
  {
   "cell_type": "markdown",
   "id": "123456",
   "metadata": {},
   "source": [
    "<div style=\"text-align:left;font-size:2em\"><span style=\"font-weight:bolder;font-size:1.25em\">SP2273 | Learning Portfolio</span><br><br><span style=\"font-weight:bold;color:darkred\">Files, Folders and OS (Need)</span></div>"
   ]
  },
  {
   "cell_type": "markdown",
   "id": "5aaeb98c",
   "metadata": {},
   "source": [
    "## 1 Important concepts"
   ]
  },
  {
   "cell_type": "markdown",
   "id": "76e659bf",
   "metadata": {},
   "source": [
    "### 1.1 Path"
   ]
  },
  {
   "cell_type": "code",
   "execution_count": null,
   "id": "3342c2af",
   "metadata": {},
   "outputs": [],
   "source": [
    "\n",
    "# Your code here\n"
   ]
  },
  {
   "cell_type": "code",
   "execution_count": 28,
   "id": "17e8e444",
   "metadata": {},
   "outputs": [],
   "source": [
    "import os\n",
    "import glob\n",
    "import shutil "
   ]
  },
  {
   "cell_type": "markdown",
   "id": "612700e0",
   "metadata": {},
   "source": [
    "### 1.2 More about relative paths"
   ]
  },
  {
   "cell_type": "code",
   "execution_count": null,
   "id": "95abe620",
   "metadata": {},
   "outputs": [],
   "source": [
    "\n",
    "# Your code here\n"
   ]
  },
  {
   "cell_type": "markdown",
   "id": "1447e171",
   "metadata": {},
   "source": [
    "### 1.3 Path separator"
   ]
  },
  {
   "cell_type": "code",
   "execution_count": null,
   "id": "462dafbe",
   "metadata": {},
   "outputs": [],
   "source": [
    "\n",
    "# Your code here\n"
   ]
  },
  {
   "cell_type": "markdown",
   "id": "4d6cc368",
   "metadata": {},
   "source": [
    "### Text files vs Binary files"
   ]
  },
  {
   "cell_type": "code",
   "execution_count": null,
   "id": "4121bb03",
   "metadata": {},
   "outputs": [],
   "source": [
    "\n",
    "# Your code here\n"
   ]
  },
  {
   "cell_type": "markdown",
   "id": "8af9bd1b",
   "metadata": {},
   "source": [
    "### Extentions"
   ]
  },
  {
   "cell_type": "code",
   "execution_count": null,
   "id": "f7a235c0",
   "metadata": {},
   "outputs": [],
   "source": [
    "\n",
    "# Your code here\n"
   ]
  },
  {
   "cell_type": "markdown",
   "id": "71934372",
   "metadata": {},
   "source": [
    "### 1.4 Opening and closing files"
   ]
  },
  {
   "cell_type": "code",
   "execution_count": 2,
   "id": "0c0266e4",
   "metadata": {},
   "outputs": [],
   "source": [
    "\n",
    "# Your code here\n",
    "with open('spectrum-01.txt', 'r') as file:\n",
    "    file_content = file.read()\n",
    "\n",
    "\n",
    "\n",
    "text = 'Far out in the uncharted backwaters of the unfashionable end of the western spiral arm of the Galaxy lies a small unregarded yellow sun.\\nOrbiting this at a distance of roughly ninety-two million miles is an utterly insignificant little blue green planet whose ape-descended life forms are so amazingly primitive that they still think digital watches are a pretty neat idea.'\n",
    "with open('my-text-once.txt', 'w') as file:\n",
    "    file.write(text)"
   ]
  },
  {
   "cell_type": "markdown",
   "id": "46c85cbb",
   "metadata": {},
   "source": [
    "## 2 Playing with the OS"
   ]
  },
  {
   "cell_type": "markdown",
   "id": "dbc8118c",
   "metadata": {},
   "source": [
    "### 2.1 Some packages"
   ]
  },
  {
   "cell_type": "code",
   "execution_count": 2,
   "id": "cdad528f",
   "metadata": {},
   "outputs": [],
   "source": [
    "\n",
    "# Your code here\n",
    "import os\n",
    "import glob\n",
    "import shutil"
   ]
  },
  {
   "cell_type": "markdown",
   "id": "21b1820f",
   "metadata": {},
   "source": [
    "### 2.2 OS safe paths"
   ]
  },
  {
   "cell_type": "code",
   "execution_count": 4,
   "id": "dd3d0807",
   "metadata": {},
   "outputs": [
    {
     "name": "stdout",
     "output_type": "stream",
     "text": [
      ".\\all-data\\sg-data\\data-01.txt\n"
     ]
    }
   ],
   "source": [
    "\n",
    "# Your code here\n",
    "path = os.path.join('.', 'all-data', 'sg-data', 'data-01.txt')\n",
    "print(path)"
   ]
  },
  {
   "cell_type": "markdown",
   "id": "4a56ff79",
   "metadata": {},
   "source": [
    "### 2.3 Creating folders"
   ]
  },
  {
   "cell_type": "code",
   "execution_count": 5,
   "id": "40e1d460",
   "metadata": {},
   "outputs": [
    {
     "name": "stdout",
     "output_type": "stream",
     "text": [
      "Creating people\\Jonh\n",
      "Creating people\\Paul\n",
      "Creating people\\Ringo\n"
     ]
    }
   ],
   "source": [
    "\n",
    "# Your code here\n",
    "os.mkdir('people')\n",
    "\n",
    "for person in ['Jonh', 'Paul', 'Ringo']:\n",
    "    path = os.path.join('people', person)\n",
    "    print(f'Creating {path}')\n",
    "    os.mkdir(path)"
   ]
  },
  {
   "cell_type": "markdown",
   "id": "aed9c612",
   "metadata": {},
   "source": [
    "### 2.4 Checking for existence"
   ]
  },
  {
   "cell_type": "code",
   "execution_count": null,
   "id": "17bf70a1",
   "metadata": {},
   "outputs": [],
   "source": [
    "\n",
    "# Your code here\n"
   ]
  },
  {
   "cell_type": "markdown",
   "id": "c3347f5d",
   "metadata": {},
   "source": [
    "### 2.5 Copying files"
   ]
  },
  {
   "cell_type": "code",
   "execution_count": null,
   "id": "7cdf2f14",
   "metadata": {},
   "outputs": [],
   "source": [
    "\n",
    "# Your code here\n"
   ]
  },
  {
   "cell_type": "markdown",
   "id": "b8f4866e",
   "metadata": {},
   "source": [
    "### 2.6 Listing files"
   ]
  },
  {
   "cell_type": "code",
   "execution_count": null,
   "id": "173afccb",
   "metadata": {},
   "outputs": [],
   "source": [
    "\n",
    "# Your code here\n"
   ]
  },
  {
   "cell_type": "markdown",
   "id": "5cbb66a6",
   "metadata": {},
   "source": [
    "### 2.7 Moving about"
   ]
  },
  {
   "cell_type": "code",
   "execution_count": null,
   "id": "9d9eb872",
   "metadata": {},
   "outputs": [],
   "source": [
    "\n",
    "# Your code here\n"
   ]
  },
  {
   "cell_type": "markdown",
   "id": "dfa0d57e",
   "metadata": {},
   "source": [
    "### 2.8 Extracting Info"
   ]
  },
  {
   "cell_type": "code",
   "execution_count": null,
   "id": "06319454",
   "metadata": {},
   "outputs": [],
   "source": [
    "\n",
    "# Your code here\n"
   ]
  },
  {
   "cell_type": "markdown",
   "id": "b8e13d44",
   "metadata": {},
   "source": [
    "### 2.9 Deleting stuff"
   ]
  },
  {
   "cell_type": "code",
   "execution_count": null,
   "id": "729ec315",
   "metadata": {},
   "outputs": [],
   "source": [
    "\n",
    "# Your code here\n"
   ]
  },
  {
   "cell_type": "markdown",
   "id": "60a8b7cf",
   "metadata": {},
   "source": [
    "## Exercise 7 :  The OS is my oyster"
   ]
  },
  {
   "cell_type": "code",
   "execution_count": 3,
   "id": "792c1218",
   "metadata": {},
   "outputs": [
    {
     "data": {
      "text/plain": [
       "'C:\\\\Users\\\\Lenovo‘\\\\Desktop\\\\learning-portfolio-LiYihannn\\\\files, folders and os'"
      ]
     },
     "execution_count": 3,
     "metadata": {},
     "output_type": "execute_result"
    }
   ],
   "source": [
    "# Q1\n",
    "import os\n",
    "os.getcwd()\n"
   ]
  },
  {
   "cell_type": "code",
   "execution_count": 4,
   "id": "66d6720b",
   "metadata": {},
   "outputs": [
    {
     "ename": "FileExistsError",
     "evalue": "[WinError 183] Cannot create a file when that file already exists: 'python_today'",
     "output_type": "error",
     "traceback": [
      "\u001b[1;31m---------------------------------------------------------------------------\u001b[0m",
      "\u001b[1;31mFileExistsError\u001b[0m                           Traceback (most recent call last)",
      "Cell \u001b[1;32mIn[4], line 2\u001b[0m\n\u001b[0;32m      1\u001b[0m \u001b[38;5;66;03m# Q2\u001b[39;00m\n\u001b[1;32m----> 2\u001b[0m \u001b[43mos\u001b[49m\u001b[38;5;241;43m.\u001b[39;49m\u001b[43mmkdir\u001b[49m\u001b[43m(\u001b[49m\u001b[38;5;124;43m\"\u001b[39;49m\u001b[38;5;124;43mpython_today\u001b[39;49m\u001b[38;5;124;43m\"\u001b[39;49m\u001b[43m)\u001b[49m\n\u001b[0;32m      3\u001b[0m os\u001b[38;5;241m.\u001b[39mchdir(\u001b[38;5;124m'\u001b[39m\u001b[38;5;124mC:\u001b[39m\u001b[38;5;130;01m\\\\\u001b[39;00m\u001b[38;5;124mUsers\u001b[39m\u001b[38;5;130;01m\\\\\u001b[39;00m\u001b[38;5;124mLenovo‘\u001b[39m\u001b[38;5;130;01m\\\\\u001b[39;00m\u001b[38;5;124mDesktop\u001b[39m\u001b[38;5;130;01m\\\\\u001b[39;00m\u001b[38;5;124mlearning-portfolio-LiYihannn\u001b[39m\u001b[38;5;130;01m\\\\\u001b[39;00m\u001b[38;5;124mfiles, folders and os\u001b[39m\u001b[38;5;124m'\u001b[39m)\n",
      "\u001b[1;31mFileExistsError\u001b[0m: [WinError 183] Cannot create a file when that file already exists: 'python_today'"
     ]
    }
   ],
   "source": [
    "# Q2\n",
    "os.mkdir(\"python_today\")\n",
    "os.chdir('C:\\\\Users\\\\Lenovo‘\\\\Desktop\\\\learning-portfolio-LiYihannn\\\\files, folders and os')"
   ]
  },
  {
   "cell_type": "code",
   "execution_count": 5,
   "id": "83cf9dde",
   "metadata": {},
   "outputs": [
    {
     "ename": "FileExistsError",
     "evalue": "[WinError 183] Cannot create a file when that file already exists: 'new_directory_02'",
     "output_type": "error",
     "traceback": [
      "\u001b[1;31m---------------------------------------------------------------------------\u001b[0m",
      "\u001b[1;31mFileExistsError\u001b[0m                           Traceback (most recent call last)",
      "Cell \u001b[1;32mIn[5], line 10\u001b[0m\n\u001b[0;32m      7\u001b[0m     file_name\u001b[38;5;241m.\u001b[39mappend(\u001b[38;5;124m\"\u001b[39m\u001b[38;5;124mnew_directory_\u001b[39m\u001b[38;5;124m\"\u001b[39m \u001b[38;5;241m+\u001b[39m string_i)\n\u001b[0;32m      9\u001b[0m \u001b[38;5;28;01mfor\u001b[39;00m i \u001b[38;5;129;01min\u001b[39;00m \u001b[38;5;28mrange\u001b[39m(\u001b[38;5;28mlen\u001b[39m(file_name)):\n\u001b[1;32m---> 10\u001b[0m     \u001b[43mos\u001b[49m\u001b[38;5;241;43m.\u001b[39;49m\u001b[43mmkdir\u001b[49m\u001b[43m(\u001b[49m\u001b[43mfile_name\u001b[49m\u001b[43m[\u001b[49m\u001b[43mi\u001b[49m\u001b[43m]\u001b[49m\u001b[43m)\u001b[49m\n",
      "\u001b[1;31mFileExistsError\u001b[0m: [WinError 183] Cannot create a file when that file already exists: 'new_directory_02'"
     ]
    }
   ],
   "source": [
    "# Q3\n",
    "file_name=[]\n",
    "for i in range (1,51):\n",
    "    string_i=str(i)\n",
    "    while len (string_i)<2:\n",
    "        string_i=\"0\" + string_i\n",
    "    file_name.append(\"new_directory_\" + string_i)\n",
    "\n",
    "for i in range(len(file_name)):\n",
    "    os.mkdir(file_name[i])"
   ]
  },
  {
   "cell_type": "code",
   "execution_count": 6,
   "id": "dd222b38",
   "metadata": {
    "scrolled": true
   },
   "outputs": [
    {
     "ename": "FileNotFoundError",
     "evalue": "[WinError 2] The system cannot find the file specified: 'new_directory_03'",
     "output_type": "error",
     "traceback": [
      "\u001b[1;31m---------------------------------------------------------------------------\u001b[0m",
      "\u001b[1;31mFileNotFoundError\u001b[0m                         Traceback (most recent call last)",
      "Cell \u001b[1;32mIn[6], line 3\u001b[0m\n\u001b[0;32m      1\u001b[0m \u001b[38;5;66;03m# Q4\u001b[39;00m\n\u001b[0;32m      2\u001b[0m \u001b[38;5;28;01mfor\u001b[39;00m i \u001b[38;5;129;01min\u001b[39;00m file_name[\u001b[38;5;241m0\u001b[39m:\u001b[38;5;241m50\u001b[39m:\u001b[38;5;241m2\u001b[39m]:\n\u001b[1;32m----> 3\u001b[0m     \u001b[43mos\u001b[49m\u001b[38;5;241;43m.\u001b[39;49m\u001b[43mrmdir\u001b[49m\u001b[43m(\u001b[49m\u001b[43mi\u001b[49m\u001b[43m)\u001b[49m\n\u001b[0;32m      5\u001b[0m os\u001b[38;5;241m.\u001b[39mlistdir()\n",
      "\u001b[1;31mFileNotFoundError\u001b[0m: [WinError 2] The system cannot find the file specified: 'new_directory_03'"
     ]
    }
   ],
   "source": [
    "# Q4\n",
    "for i in file_name[0:50:2]:\n",
    "    os.rmdir(i)\n",
    "\n",
    "os.listdir()"
   ]
  },
  {
   "cell_type": "code",
   "execution_count": 7,
   "id": "38a2c1cd",
   "metadata": {
    "scrolled": true
   },
   "outputs": [
    {
     "ename": "FileExistsError",
     "evalue": "[WinError 183] Cannot create a file when that file already exists: 'new_directory_10' -> 'haha_10'",
     "output_type": "error",
     "traceback": [
      "\u001b[1;31m---------------------------------------------------------------------------\u001b[0m",
      "\u001b[1;31mFileExistsError\u001b[0m                           Traceback (most recent call last)",
      "Cell \u001b[1;32mIn[7], line 13\u001b[0m\n\u001b[0;32m     11\u001b[0m \u001b[38;5;28;01mfor\u001b[39;00m i \u001b[38;5;129;01min\u001b[39;00m \u001b[38;5;28mrange\u001b[39m(\u001b[38;5;28mlen\u001b[39m(file_name_changed)):\n\u001b[0;32m     12\u001b[0m     \u001b[38;5;28;01mif\u001b[39;00m os\u001b[38;5;241m.\u001b[39mpath\u001b[38;5;241m.\u001b[39mexists(file_name_changed[i]):\n\u001b[1;32m---> 13\u001b[0m         \u001b[43mos\u001b[49m\u001b[38;5;241;43m.\u001b[39;49m\u001b[43mrename\u001b[49m\u001b[43m(\u001b[49m\u001b[43mfile_name_changed\u001b[49m\u001b[43m[\u001b[49m\u001b[43mi\u001b[49m\u001b[43m]\u001b[49m\u001b[43m,\u001b[49m\u001b[43mnew_file_name\u001b[49m\u001b[43m[\u001b[49m\u001b[43mi\u001b[49m\u001b[43m]\u001b[49m\u001b[43m)\u001b[49m\n",
      "\u001b[1;31mFileExistsError\u001b[0m: [WinError 183] Cannot create a file when that file already exists: 'new_directory_10' -> 'haha_10'"
     ]
    }
   ],
   "source": [
    "# Q5 \n",
    "file_name_changed=file_name[4:50:5]\n",
    "\n",
    "new_file_name=[]\n",
    "for i in range (5,51,5):\n",
    "    string_i=str(i)\n",
    "    while len (string_i)<2:\n",
    "        string_i=\"0\" + string_i\n",
    "    new_file_name.append(\"haha_\" + string_i)\n",
    "    \n",
    "for i in range(len(file_name_changed)):\n",
    "    if os.path.exists(file_name_changed[i]):\n",
    "        os.rename(file_name_changed[i],new_file_name[i])"
   ]
  },
  {
   "cell_type": "code",
   "execution_count": 8,
   "id": "47cab4a5",
   "metadata": {},
   "outputs": [
    {
     "name": "stdout",
     "output_type": "stream",
     "text": [
      "['haha_05']\n",
      "['haha_10']\n",
      "['haha_20']\n",
      "['haha_30']\n",
      "['haha_40']\n",
      "['haha_50']\n"
     ]
    },
    {
     "data": {
      "text/plain": [
       "['.ipynb_checkpoints',\n",
       " 'files,_folders_and_os_(need).ipynb',\n",
       " 'haha_05',\n",
       " 'haha_10',\n",
       " 'haha_20',\n",
       " 'haha_30',\n",
       " 'haha_40',\n",
       " 'haha_50',\n",
       " 'my-text-once.txt',\n",
       " 'new_directory_02',\n",
       " 'new_directory_04',\n",
       " 'new_directory_06',\n",
       " 'new_directory_08',\n",
       " 'new_directory_10',\n",
       " 'new_directory_12',\n",
       " 'new_directory_14',\n",
       " 'new_directory_16',\n",
       " 'new_directory_18',\n",
       " 'new_directory_20',\n",
       " 'new_directory_22',\n",
       " 'new_directory_24',\n",
       " 'new_directory_26',\n",
       " 'new_directory_28',\n",
       " 'new_directory_30',\n",
       " 'new_directory_32',\n",
       " 'new_directory_34',\n",
       " 'new_directory_36',\n",
       " 'new_directory_38',\n",
       " 'new_directory_40',\n",
       " 'new_directory_42',\n",
       " 'new_directory_44',\n",
       " 'new_directory_46',\n",
       " 'new_directory_48',\n",
       " 'new_directory_50',\n",
       " 'os-collaboration-exercise-data',\n",
       " 'os-collaboration-exercise-data.zip',\n",
       " 'people',\n",
       " 'python_today',\n",
       " 'sp2273_logo.png',\n",
       " 'spectrum-01.txt']"
      ]
     },
     "execution_count": 8,
     "metadata": {},
     "output_type": "execute_result"
    }
   ],
   "source": [
    "# Q6 \n",
    "for i in range(len(new_file_name)):\n",
    "    if os.path.exists(new_file_name[i]):\n",
    "        print (glob.glob(new_file_name[i]))\n",
    "        shutil.copy('C:\\\\Users\\\\Lenovo‘\\\\Desktop\\\\learning-portfolio-LiYihannn\\\\files, folders and os\\\\sp2273_logo.png',os.path.join(\"C:\\\\Users\",\"Lenovo‘\",\"Desktop\",\"learning-portfolio-LiYihannn\",\"files, folders and os\",new_file_name[i]))\n",
    "\n",
    "os.listdir()\n"
   ]
  },
  {
   "cell_type": "markdown",
   "id": "4b2100ca",
   "metadata": {},
   "source": [
    "## Exercise 8 :  Tidying a collaboration"
   ]
  },
  {
   "cell_type": "code",
   "execution_count": 26,
   "id": "96010c3e",
   "metadata": {},
   "outputs": [
    {
     "data": {
      "text/plain": [
       "'04-03-manila'"
      ]
     },
     "execution_count": 26,
     "metadata": {},
     "output_type": "execute_result"
    }
   ],
   "source": [
    "# Q1,Q2\n",
    "month= {\n",
    "        'jan': '01', 'feb': '02', 'mar': '03',\n",
    "        'apr': '04', 'may': '05', 'jun': '06',\n",
    "        'jul': '07', 'aug': '08', 'sep': '09',\n",
    "        'oct': '10', 'nov': '11', 'dec': '12'\n",
    "       }\n",
    "\n",
    "def rename_my_file(old_file_name):\n",
    "    if \"_\" in old_file_name: \n",
    "        file_name_list=old_file_name.replace(\"_\",\"-\").split(\"-\")\n",
    "        file_name_list[0]=month[file_name_list[0]]\n",
    "        new_file_name= \"-\".join(file_name_list)\n",
    "    return new_file_name\n",
    "    \n",
    "rename_my_file(\"apr-03_manila\")"
   ]
  },
  {
   "cell_type": "code",
   "execution_count": 27,
   "id": "d72ddfca",
   "metadata": {},
   "outputs": [
    {
     "name": "stdout",
     "output_type": "stream",
     "text": [
      "oct-08_singapore.txt---->10-08-singapore.txt\n",
      "jul-10_cairo.txt---->07-10-cairo.txt\n",
      "may-15_dhaka.txt---->05-15-dhaka.txt\n",
      "may-13_cairo.txt---->05-13-cairo.txt\n",
      "oct-21_cairo.txt---->10-21-cairo.txt\n",
      "jan-10_singapore.txt---->01-10-singapore.txt\n",
      "jun-20_tokyo.txt---->06-20-tokyo.txt\n",
      "aug-06_jakarta.txt---->08-06-jakarta.txt\n",
      "dec-21_karachi.txt---->12-21-karachi.txt\n",
      "jan-01_tokyo.txt---->01-01-tokyo.txt\n"
     ]
    }
   ],
   "source": [
    "# Q3\n",
    "old_name_list=['oct-08_singapore.txt', 'jul-10_cairo.txt', 'may-15_dhaka.txt',\n",
    " 'may-13_cairo.txt', 'oct-21_cairo.txt', 'jan-10_singapore.txt',\n",
    " 'jun-20_tokyo.txt', 'aug-06_jakarta.txt', 'dec-21_karachi.txt',\n",
    " 'jan-01_tokyo.txt']\n",
    "new_name_list=[]\n",
    "for i in old_name_list: \n",
    "    new_name_list.append(rename_my_file(i))\n",
    "    \n",
    "for i in range(len(old_name_list)):\n",
    "    print (old_name_list[i] + \"---->\" + new_name_list[i])"
   ]
  },
  {
   "cell_type": "code",
   "execution_count": 30,
   "id": "773c232b",
   "metadata": {
    "scrolled": true
   },
   "outputs": [],
   "source": [
    "# Q4 \n",
    "file_list=glob.glob('**.txt')\n",
    "for i in file_list:\n",
    "    if \"_\" in i:\n",
    "        os.rename(i,rename_my_file(i))"
   ]
  },
  {
   "cell_type": "code",
   "execution_count": 32,
   "id": "204ed878",
   "metadata": {},
   "outputs": [
    {
     "ename": "FileExistsError",
     "evalue": "[WinError 183] Cannot create a file when that file already exists: 'Cairo'",
     "output_type": "error",
     "traceback": [
      "\u001b[1;31m---------------------------------------------------------------------------\u001b[0m",
      "\u001b[1;31mFileExistsError\u001b[0m                           Traceback (most recent call last)",
      "Cell \u001b[1;32mIn[32], line 6\u001b[0m\n\u001b[0;32m      2\u001b[0m city\u001b[38;5;241m=\u001b[39m[\u001b[38;5;124m'\u001b[39m\u001b[38;5;124mCairo\u001b[39m\u001b[38;5;124m'\u001b[39m, \u001b[38;5;124m'\u001b[39m\u001b[38;5;124mDhaka\u001b[39m\u001b[38;5;124m'\u001b[39m, \u001b[38;5;124m'\u001b[39m\u001b[38;5;124mJakarta\u001b[39m\u001b[38;5;124m'\u001b[39m, \u001b[38;5;124m'\u001b[39m\u001b[38;5;124mKarachi\u001b[39m\u001b[38;5;124m'\u001b[39m, \u001b[38;5;124m'\u001b[39m\u001b[38;5;124mManila\u001b[39m\u001b[38;5;124m'\u001b[39m,\n\u001b[0;32m      3\u001b[0m  \u001b[38;5;124m'\u001b[39m\u001b[38;5;124mMelbourne\u001b[39m\u001b[38;5;124m'\u001b[39m, \u001b[38;5;124m'\u001b[39m\u001b[38;5;124mOsaka\u001b[39m\u001b[38;5;124m'\u001b[39m, \u001b[38;5;124m'\u001b[39m\u001b[38;5;124mShanghai\u001b[39m\u001b[38;5;124m'\u001b[39m, \u001b[38;5;124m'\u001b[39m\u001b[38;5;124mSingapore\u001b[39m\u001b[38;5;124m'\u001b[39m, \u001b[38;5;124m'\u001b[39m\u001b[38;5;124mTokyo\u001b[39m\u001b[38;5;124m'\u001b[39m]\n\u001b[0;32m      5\u001b[0m \u001b[38;5;28;01mfor\u001b[39;00m i \u001b[38;5;129;01min\u001b[39;00m city:\n\u001b[1;32m----> 6\u001b[0m     \u001b[43mos\u001b[49m\u001b[38;5;241;43m.\u001b[39;49m\u001b[43mmkdir\u001b[49m\u001b[43m(\u001b[49m\u001b[43mi\u001b[49m\u001b[43m)\u001b[49m\n",
      "\u001b[1;31mFileExistsError\u001b[0m: [WinError 183] Cannot create a file when that file already exists: 'Cairo'"
     ]
    }
   ],
   "source": [
    "# Q5\n",
    "city=['Cairo', 'Dhaka', 'Jakarta', 'Karachi', 'Manila',\n",
    " 'Melbourne', 'Osaka', 'Shanghai', 'Singapore', 'Tokyo']\n",
    "\n",
    "for i in city:\n",
    "    os.mkdir(i)"
   ]
  },
  {
   "cell_type": "code",
   "execution_count": 43,
   "id": "7f20e51a",
   "metadata": {},
   "outputs": [
    {
     "data": {
      "text/plain": [
       "'C:\\\\Users\\\\Lenovo‘\\\\Desktop\\\\learning-portfolio-LiYihannn\\\\files, folders and os\\\\os-collaboration-exercise-data'"
      ]
     },
     "execution_count": 43,
     "metadata": {},
     "output_type": "execute_result"
    }
   ],
   "source": [
    "os.getcwd()"
   ]
  },
  {
   "cell_type": "code",
   "execution_count": 42,
   "id": "5ad42420",
   "metadata": {},
   "outputs": [],
   "source": [
    "os.chdir('..')"
   ]
  },
  {
   "cell_type": "code",
   "execution_count": 33,
   "id": "ebe314e5",
   "metadata": {},
   "outputs": [],
   "source": [
    "# Q6\n",
    "cairo=glob.glob('**cairo*.txt')\n",
    "for i in cairo:\n",
    "    shutil.copy(i,\"Cairo\")\n"
   ]
  },
  {
   "cell_type": "code",
   "execution_count": 45,
   "id": "12476cda",
   "metadata": {},
   "outputs": [],
   "source": [
    "# Q7\n",
    "dhaka=glob.glob('**dhaka*.txt')\n",
    "for i in dhaka: \n",
    "    shutil.move(i,\"Dhaka\")\n",
    "\n"
   ]
  },
  {
   "cell_type": "code",
   "execution_count": 48,
   "id": "c7104823",
   "metadata": {},
   "outputs": [],
   "source": [
    "jakarta=glob.glob('**jakarta*.txt')\n",
    "for i in jakarta: \n",
    "    shutil.move(i,\"Jakarta\")"
   ]
  },
  {
   "cell_type": "code",
   "execution_count": 49,
   "id": "daad1054",
   "metadata": {},
   "outputs": [],
   "source": [
    "karachi=glob.glob('**karachi*.txt')\n",
    "for i in karachi: \n",
    "    shutil.move(i,\"Karachi\")"
   ]
  },
  {
   "cell_type": "code",
   "execution_count": 50,
   "id": "5e076fb9",
   "metadata": {},
   "outputs": [],
   "source": [
    "manila=glob.glob('**manila*.txt')\n",
    "for i in manila: \n",
    "    shutil.move(i,\"Manila\")"
   ]
  },
  {
   "cell_type": "code",
   "execution_count": 51,
   "id": "687d37a5",
   "metadata": {},
   "outputs": [],
   "source": [
    "melbourne=glob.glob('**melbourne*.txt')\n",
    "for i in melbourne: \n",
    "    shutil.move(i,\"Melbourne\")"
   ]
  },
  {
   "cell_type": "code",
   "execution_count": 52,
   "id": "e87de33d",
   "metadata": {},
   "outputs": [],
   "source": [
    "osaka=glob.glob('**osaka*.txt')\n",
    "for i in osaka: \n",
    "    shutil.move(i,\"Osaka\")"
   ]
  },
  {
   "cell_type": "code",
   "execution_count": 53,
   "id": "4ceb3244",
   "metadata": {},
   "outputs": [],
   "source": [
    "shanghai=glob.glob('**shanghai*.txt')\n",
    "for i in shanghai: \n",
    "    shutil.move(i,\"Shanghai\")"
   ]
  },
  {
   "cell_type": "code",
   "execution_count": 54,
   "id": "b93aa502",
   "metadata": {},
   "outputs": [],
   "source": [
    "singapore=glob.glob('**singapore*.txt')\n",
    "for i in singapore: \n",
    "    shutil.move(i,\"Singapore\")"
   ]
  },
  {
   "cell_type": "code",
   "execution_count": 55,
   "id": "f9642616",
   "metadata": {},
   "outputs": [],
   "source": [
    "tokyo=glob.glob('**tokyo*.txt')\n",
    "for i in tokyo: \n",
    "    shutil.move(i,\"Tokyo\")"
   ]
  }
 ],
 "metadata": {
  "kernelspec": {
   "display_name": "Python 3 (ipykernel)",
   "language": "python",
   "name": "python3"
  },
  "language_info": {
   "codemirror_mode": {
    "name": "ipython",
    "version": 3
   },
   "file_extension": ".py",
   "mimetype": "text/x-python",
   "name": "python",
   "nbconvert_exporter": "python",
   "pygments_lexer": "ipython3",
   "version": "3.10.8"
  },
  "toc": {
   "base_numbering": 1,
   "nav_menu": {},
   "number_sections": true,
   "sideBar": true,
   "skip_h1_title": false,
   "title_cell": "Table of Contents",
   "title_sidebar": "Contents",
   "toc_cell": false,
   "toc_position": {},
   "toc_section_display": true,
   "toc_window_display": false
  },
  "vscode": {
   "interpreter": {
    "hash": "31f2aee4e71d21fbe5cf8b01ff0e069b9275f58929596ceb00d14d90e3e16cd6"
   }
  }
 },
 "nbformat": 4,
 "nbformat_minor": 5
}
