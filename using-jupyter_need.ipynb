{
 "cells": [
  {
   "cell_type": "markdown",
   "id": "8e5b8aeb",
   "metadata": {},
   "source": [
    "**Quadratic Equations**\n",
    "![](https://upload.wikimedia.org/wikipedia/commons/thumb/f/f8/Polynomialdeg2.svg/800px-Polynomialdeg2.svg.png)\n",
    "\n",
    "(Image from the [Wikipedia page on Quadratic equations](https://en.wikipedia.org/wiki/Quadratic_equation))\n",
    "\n",
    "**Introduction**\n",
    "\n",
    "The general form of a quadratic equation is:\n",
    "\n",
    "$$\n",
    "ax^2+bx+c=0\n",
    "$$\n",
    "\n",
    "**Solutions** Provided $a \\ne 0$, we can use an elementary algebraic method called [completeing the square](https://en.wikipedia.org/wiki/Completing_the_square) to show that a quadratic equation has the following solution:\\\n",
    "\n",
    "$$\n",
    "x = \\dfrac{-b \\pm \\sqrt{b^2-4ac}}{2a}\n",
    "$$\n",
    "\n",
    "**Discriminant**\n",
    "\n",
    "The quantity $\\Delta =  b^2-4ac$ is called the **discriminant** of the equation and decides the nature of its solutions. The table below shows the various possibilities.\n",
    "\n",
    "|    **Discriminat**    |               **Roots**               | \n",
    "| :--------------------: |  :----------------------------------- | \n",
    "| $$\\Delta =  b^2-4ac=0$$ |  A single solution of $-b/(2a)$       |  \n",
    "| $$\\Delta =  b^2-4ac>0$$ |  Two distinct solutions               |   \n",
    "| $$\\Delta =  b^2-4ac<0$$ |  No real solutions; both are complex. |  "
   ]
  },
  {
   "cell_type": "markdown",
   "id": "077dd518",
   "metadata": {},
   "source": [
    "1. repository is a folder on GitHub to store your Learning Portfolio\n",
    "2. changes \n",
    "3. commit can be used to specify the changes made to the file with a brief discription \n",
    "4. push is used to share the changes made stored locally on the device to the GitHub server\n",
    "5. GitHub is an online cloud repository while GitHub Desktop is the local repository with a user friendly interface "
   ]
  },
  {
   "cell_type": "code",
   "execution_count": null,
   "id": "c1833faf",
   "metadata": {},
   "outputs": [],
   "source": []
  }
 ],
 "metadata": {
  "kernelspec": {
   "display_name": "Python 3 (ipykernel)",
   "language": "python",
   "name": "python3"
  },
  "language_info": {
   "codemirror_mode": {
    "name": "ipython",
    "version": 3
   },
   "file_extension": ".py",
   "mimetype": "text/x-python",
   "name": "python",
   "nbconvert_exporter": "python",
   "pygments_lexer": "ipython3",
   "version": "3.10.9"
  }
 },
 "nbformat": 4,
 "nbformat_minor": 5
}
